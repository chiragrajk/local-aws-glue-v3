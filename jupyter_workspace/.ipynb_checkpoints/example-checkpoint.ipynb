{
 "cells": [
  {
   "cell_type": "code",
   "execution_count": 1,
   "id": "04652084-ffb0-4ac9-8bd6-c3d9b3f5a9c6",
   "metadata": {},
   "outputs": [
    {
     "name": "stdout",
     "output_type": "stream",
     "text": [
      "Starting Spark application\n"
     ]
    },
    {
     "data": {
      "text/html": [
       "<table>\n",
       "<tr><th>ID</th><th>YARN Application ID</th><th>Kind</th><th>State</th><th>Spark UI</th><th>Driver log</th><th>User</th><th>Current session?</th></tr><tr><td>1</td><td>None</td><td>pyspark</td><td>idle</td><td></td><td></td><td>None</td><td>✔</td></tr></table>"
      ],
      "text/plain": [
       "<IPython.core.display.HTML object>"
      ]
     },
     "metadata": {},
     "output_type": "display_data"
    },
    {
     "data": {
      "application/vnd.jupyter.widget-view+json": {
       "model_id": "",
       "version_major": 2,
       "version_minor": 0
      },
      "text/plain": [
       "FloatProgress(value=0.0, bar_style='info', description='Progress:', layout=Layout(height='25px', width='50%'),…"
      ]
     },
     "metadata": {},
     "output_type": "display_data"
    },
    {
     "name": "stdout",
     "output_type": "stream",
     "text": [
      "SparkSession available as 'spark'.\n"
     ]
    },
    {
     "data": {
      "application/vnd.jupyter.widget-view+json": {
       "model_id": "",
       "version_major": 2,
       "version_minor": 0
      },
      "text/plain": [
       "FloatProgress(value=0.0, bar_style='info', description='Progress:', layout=Layout(height='25px', width='50%'),…"
      ]
     },
     "metadata": {},
     "output_type": "display_data"
    }
   ],
   "source": [
    "import sys\n",
    "from pyspark.context import SparkContext\n",
    "from awsglue.context import GlueContext\n",
    "from awsglue.transforms import *\n",
    "from awsglue.dynamicframe import DynamicFrame\n",
    "from pyspark.sql.types import *\n",
    "from pyspark.sql import Row\n",
    "glueContext = GlueContext(SparkContext.getOrCreate())"
   ]
  },
  {
   "cell_type": "code",
   "execution_count": 3,
   "id": "e89c349e-41a0-4369-8bc0-e5f0c24f5526",
   "metadata": {},
   "outputs": [
    {
     "data": {
      "application/vnd.jupyter.widget-view+json": {
       "model_id": "",
       "version_major": 2,
       "version_minor": 0
      },
      "text/plain": [
       "FloatProgress(value=0.0, bar_style='info', description='Progress:', layout=Layout(height='25px', width='50%'),…"
      ]
     },
     "metadata": {},
     "output_type": "display_data"
    }
   ],
   "source": [
    "order_list = [\n",
    "               ['1005', '623', 'YES', '1418901234', '75091'],\\\n",
    "               ['1006', '547', 'NO', '1418901256', '75034'],\\\n",
    "               ['1007', '823', 'YES', '1418901300', '75023'],\\\n",
    "               ['1008', '912', 'NO', '1418901400', '82091'],\\\n",
    "               ['1009', '321', 'YES', '1418902000', '90093']\\\n",
    "             ]\n",
    "\n",
    "# Define schema for the order_list\n",
    "order_schema = StructType([  \n",
    "                      StructField(\"order_id\", StringType()),\n",
    "                      StructField(\"customer_id\", StringType()),\n",
    "                      StructField(\"essential_item\", StringType()),\n",
    "                      StructField(\"timestamp\", StringType()),\n",
    "                      StructField(\"zipcode\", StringType())\n",
    "                    ])"
   ]
  },
  {
   "cell_type": "code",
   "execution_count": 4,
   "id": "64bf7a53-1ae6-4ab7-aa0c-6e3a8fa96faa",
   "metadata": {},
   "outputs": [
    {
     "data": {
      "application/vnd.jupyter.widget-view+json": {
       "model_id": "",
       "version_major": 2,
       "version_minor": 0
      },
      "text/plain": [
       "FloatProgress(value=0.0, bar_style='info', description='Progress:', layout=Layout(height='25px', width='50%'),…"
      ]
     },
     "metadata": {},
     "output_type": "display_data"
    },
    {
     "name": "stdout",
     "output_type": "stream",
     "text": [
      "+--------+-----------+--------------+----------+-------+\n",
      "|order_id|customer_id|essential_item| timestamp|zipcode|\n",
      "+--------+-----------+--------------+----------+-------+\n",
      "|    1005|        623|           YES|1418901234|  75091|\n",
      "|    1006|        547|            NO|1418901256|  75034|\n",
      "|    1007|        823|           YES|1418901300|  75023|\n",
      "|    1008|        912|            NO|1418901400|  82091|\n",
      "|    1009|        321|           YES|1418902000|  90093|\n",
      "+--------+-----------+--------------+----------+-------+"
     ]
    }
   ],
   "source": [
    "df_orders = spark.createDataFrame(order_list, schema = order_schema)\n",
    "df_orders.show()"
   ]
  },
  {
   "cell_type": "code",
   "execution_count": 5,
   "id": "6ccba56b-0153-4d1b-add6-603b33ed6ed9",
   "metadata": {},
   "outputs": [
    {
     "data": {
      "application/vnd.jupyter.widget-view+json": {
       "model_id": "",
       "version_major": 2,
       "version_minor": 0
      },
      "text/plain": [
       "FloatProgress(value=0.0, bar_style='info', description='Progress:', layout=Layout(height='25px', width='50%'),…"
      ]
     },
     "metadata": {},
     "output_type": "display_data"
    }
   ],
   "source": [
    "dyf_orders = DynamicFrame.fromDF(df_orders, glueContext, \"dyf\") "
   ]
  },
  {
   "cell_type": "code",
   "execution_count": 6,
   "id": "5c2ae01a-1484-4250-a294-57aad73cc416",
   "metadata": {},
   "outputs": [
    {
     "data": {
      "application/vnd.jupyter.widget-view+json": {
       "model_id": "",
       "version_major": 2,
       "version_minor": 0
      },
      "text/plain": [
       "FloatProgress(value=0.0, bar_style='info', description='Progress:', layout=Layout(height='25px', width='50%'),…"
      ]
     },
     "metadata": {},
     "output_type": "display_data"
    },
    {
     "name": "stdout",
     "output_type": "stream",
     "text": [
      "root\n",
      "|-- order_id: long\n",
      "|-- customer_id: long\n",
      "|-- essential_item: string\n",
      "|-- timestamp: long\n",
      "|-- zip: long"
     ]
    }
   ],
   "source": [
    "# Input \n",
    "dyf_applyMapping = ApplyMapping.apply( frame = dyf_orders, mappings = [ \n",
    "  (\"order_id\",\"String\",\"order_id\",\"Long\"), \n",
    "  (\"customer_id\",\"String\",\"customer_id\",\"Long\"),\n",
    "  (\"essential_item\",\"String\",\"essential_item\",\"String\"),\n",
    "  (\"timestamp\",\"String\",\"timestamp\",\"Long\"),\n",
    "  (\"zipcode\",\"String\",\"zip\",\"Long\")\n",
    "])\n",
    "\n",
    "dyf_applyMapping.printSchema()"
   ]
  },
  {
   "cell_type": "code",
   "execution_count": 7,
   "id": "1b1d59f2-05f1-4637-ba2d-0080179afd86",
   "metadata": {},
   "outputs": [
    {
     "data": {
      "application/vnd.jupyter.widget-view+json": {
       "model_id": "",
       "version_major": 2,
       "version_minor": 0
      },
      "text/plain": [
       "FloatProgress(value=0.0, bar_style='info', description='Progress:', layout=Layout(height='25px', width='50%'),…"
      ]
     },
     "metadata": {},
     "output_type": "display_data"
    },
    {
     "name": "stdout",
     "output_type": "stream",
     "text": [
      "+--------------+-----------+-----+----------+--------+\n",
      "|essential_item|customer_id|  zip| timestamp|order_id|\n",
      "+--------------+-----------+-----+----------+--------+\n",
      "|           YES|        623|75091|1418901234|    1005|\n",
      "|           YES|        823|75023|1418901300|    1007|\n",
      "|           YES|        321|90093|1418902000|    1009|\n",
      "+--------------+-----------+-----+----------+--------+"
     ]
    }
   ],
   "source": [
    "# Input \n",
    "dyf_filter = Filter.apply(frame = dyf_applyMapping, f = lambda x: x[\"essential_item\"] == 'YES')\n",
    "\n",
    "dyf_filter.toDF().show()"
   ]
  },
  {
   "cell_type": "code",
   "execution_count": 8,
   "id": "138e7f05-ca4c-4940-85cd-011c3f1f05a1",
   "metadata": {},
   "outputs": [
    {
     "data": {
      "application/vnd.jupyter.widget-view+json": {
       "model_id": "",
       "version_major": 2,
       "version_minor": 0
      },
      "text/plain": [
       "FloatProgress(value=0.0, bar_style='info', description='Progress:', layout=Layout(height='25px', width='50%'),…"
      ]
     },
     "metadata": {},
     "output_type": "display_data"
    },
    {
     "name": "stdout",
     "output_type": "stream",
     "text": [
      "+--------------+-----------+-----+----------+--------+------------+\n",
      "|essential_item|customer_id|  zip| timestamp|order_id|next_day_air|\n",
      "+--------------+-----------+-----+----------+--------+------------+\n",
      "|           YES|        623|75091|1418901234|    1005|        null|\n",
      "|            NO|        547|75034|1418901256|    1006|        true|\n",
      "|           YES|        823|75023|1418901300|    1007|        null|\n",
      "|            NO|        912|82091|1418901400|    1008|        null|\n",
      "|           YES|        321|90093|1418902000|    1009|        null|\n",
      "+--------------+-----------+-----+----------+--------+------------+"
     ]
    }
   ],
   "source": [
    "def next_day_air(rec):\n",
    "  if rec[\"zip\"] == 75034:\n",
    "    rec[\"next_day_air\"] = True\n",
    "  return rec\n",
    "\n",
    "mapped_dyF =  Map.apply(frame = dyf_applyMapping, f = next_day_air)\n",
    "\n",
    "mapped_dyF.toDF().show()"
   ]
  },
  {
   "cell_type": "code",
   "execution_count": 9,
   "id": "95833776-49c8-49c2-a6fb-ac1003b3e77a",
   "metadata": {},
   "outputs": [
    {
     "data": {
      "application/vnd.jupyter.widget-view+json": {
       "model_id": "",
       "version_major": 2,
       "version_minor": 0
      },
      "text/plain": [
       "FloatProgress(value=0.0, bar_style='info', description='Progress:', layout=Layout(height='25px', width='50%'),…"
      ]
     },
     "metadata": {},
     "output_type": "display_data"
    },
    {
     "name": "stdout",
     "output_type": "stream",
     "text": [
      "+--------------------+-----+\n",
      "|           customers|  zip|\n",
      "+--------------------+-----+\n",
      "|[{108 Park Street...|75091|\n",
      "|[{771 Peek Pkwy, ...|82091|\n",
      "|[{66 P Street, NY...|75023|\n",
      "|[{708 Fed Ln, CA,...|90093|\n",
      "+--------------------+-----+"
     ]
    }
   ],
   "source": [
    "# Input \n",
    "jsonStr1 = u'{ \"zip\": 75091, \"customers\": [{ \"id\": 623, \"address\": \"108 Park Street, TX\"}, { \"id\": 231, \"address\": \"763 Marsh Ln, TX\" }]}'\n",
    "jsonStr2 = u'{ \"zip\": 82091, \"customers\": [{ \"id\": 201, \"address\": \"771 Peek Pkwy, GA\" }]}'\n",
    "jsonStr3 = u'{ \"zip\": 75023, \"customers\": [{ \"id\": 343, \"address\": \"66 P Street, NY\" }]}'\n",
    "jsonStr4 = u'{ \"zip\": 90093, \"customers\": [{ \"id\": 932, \"address\": \"708 Fed Ln, CA\"}, { \"id\": 102, \"address\": \"807 Deccan Dr, CA\" }]}'\n",
    "df_row = spark.createDataFrame([\n",
    "  Row(json=jsonStr1),\n",
    "  Row(json=jsonStr2),\n",
    "  Row(json=jsonStr3),\n",
    "  Row(json=jsonStr4)\n",
    "])\n",
    "\n",
    "df_json = spark.read.json(df_row.rdd.map(lambda r: r.json))\n",
    "df_json.show()"
   ]
  },
  {
   "cell_type": "code",
   "execution_count": 10,
   "id": "d7040d38-0a5d-407d-b418-26046829a6e1",
   "metadata": {},
   "outputs": [
    {
     "data": {
      "application/vnd.jupyter.widget-view+json": {
       "model_id": "",
       "version_major": 2,
       "version_minor": 0
      },
      "text/plain": [
       "FloatProgress(value=0.0, bar_style='info', description='Progress:', layout=Layout(height='25px', width='50%'),…"
      ]
     },
     "metadata": {},
     "output_type": "display_data"
    }
   ],
   "source": [
    "dyf_json = DynamicFrame.fromDF(df_json, glueContext, \"dyf_json\")"
   ]
  },
  {
   "cell_type": "code",
   "execution_count": 11,
   "id": "159454ba-a7ab-4916-908d-f23d03d209a6",
   "metadata": {},
   "outputs": [
    {
     "data": {
      "application/vnd.jupyter.widget-view+json": {
       "model_id": "",
       "version_major": 2,
       "version_minor": 0
      },
      "text/plain": [
       "FloatProgress(value=0.0, bar_style='info', description='Progress:', layout=Layout(height='25px', width='50%'),…"
      ]
     },
     "metadata": {},
     "output_type": "display_data"
    },
    {
     "name": "stdout",
     "output_type": "stream",
     "text": [
      "+-----+\n",
      "|  zip|\n",
      "+-----+\n",
      "|75091|\n",
      "|75023|\n",
      "|90093|\n",
      "+-----+"
     ]
    }
   ],
   "source": [
    "# Input\n",
    "dyf_selectFields = SelectFields.apply(frame = dyf_filter, paths=['zip'])\n",
    "\n",
    "dyf_selectFields.toDF().show()"
   ]
  },
  {
   "cell_type": "code",
   "execution_count": 12,
   "id": "bc022651-e5f6-44fd-97e8-7e1426fb1710",
   "metadata": {},
   "outputs": [
    {
     "data": {
      "application/vnd.jupyter.widget-view+json": {
       "model_id": "",
       "version_major": 2,
       "version_minor": 0
      },
      "text/plain": [
       "FloatProgress(value=0.0, bar_style='info', description='Progress:', layout=Layout(height='25px', width='50%'),…"
      ]
     },
     "metadata": {},
     "output_type": "display_data"
    },
    {
     "name": "stdout",
     "output_type": "stream",
     "text": [
      "+--------------------+-----+-----+\n",
      "|           customers| .zip|  zip|\n",
      "+--------------------+-----+-----+\n",
      "|[{66 P Street, NY...|75023|75023|\n",
      "|[{708 Fed Ln, CA,...|90093|90093|\n",
      "|[{108 Park Street...|75091|75091|\n",
      "+--------------------+-----+-----+"
     ]
    }
   ],
   "source": [
    "# Input\n",
    "dyf_join = Join.apply(dyf_json, dyf_selectFields, 'zip', 'zip')\n",
    "dyf_join.toDF().show()"
   ]
  },
  {
   "cell_type": "code",
   "execution_count": 13,
   "id": "1574e421-355d-4769-8332-50377fee8230",
   "metadata": {},
   "outputs": [
    {
     "data": {
      "application/vnd.jupyter.widget-view+json": {
       "model_id": "",
       "version_major": 2,
       "version_minor": 0
      },
      "text/plain": [
       "FloatProgress(value=0.0, bar_style='info', description='Progress:', layout=Layout(height='25px', width='50%'),…"
      ]
     },
     "metadata": {},
     "output_type": "display_data"
    },
    {
     "name": "stdout",
     "output_type": "stream",
     "text": [
      "+--------------------+-----+\n",
      "|           customers|  zip|\n",
      "+--------------------+-----+\n",
      "|[{66 P Street, NY...|75023|\n",
      "|[{708 Fed Ln, CA,...|90093|\n",
      "|[{108 Park Street...|75091|\n",
      "+--------------------+-----+"
     ]
    }
   ],
   "source": [
    "# Input\n",
    "dyf_dropfields = DropFields.apply(\n",
    "  frame = dyf_join,\n",
    "  paths = \"`.zip`\"\n",
    ")\n",
    "\n",
    "dyf_dropfields.toDF().show()"
   ]
  },
  {
   "cell_type": "code",
   "execution_count": 20,
   "id": "edbce1a1-4a93-46ad-b499-b449d0272941",
   "metadata": {},
   "outputs": [
    {
     "data": {
      "application/vnd.jupyter.widget-view+json": {
       "model_id": "",
       "version_major": 2,
       "version_minor": 0
      },
      "text/plain": [
       "FloatProgress(value=0.0, bar_style='info', description='Progress:', layout=Layout(height='25px', width='50%'),…"
      ]
     },
     "metadata": {},
     "output_type": "display_data"
    },
    {
     "name": "stdout",
     "output_type": "stream",
     "text": [
      "dict_keys(['root', 'root_customers'])"
     ]
    }
   ],
   "source": [
    "dyf_relationize = dyf_dropfields.relationalize(\"root\", \"/home/glue_user/workspace/jupyter_workspace/glue_output\")\n",
    "dyf_relationize.keys()\n"
   ]
  },
  {
   "cell_type": "code",
   "execution_count": 23,
   "id": "6fd8c664-76c4-4d1b-b51f-6b5896ea67b5",
   "metadata": {},
   "outputs": [
    {
     "data": {
      "application/vnd.jupyter.widget-view+json": {
       "model_id": "",
       "version_major": 2,
       "version_minor": 0
      },
      "text/plain": [
       "FloatProgress(value=0.0, bar_style='info', description='Progress:', layout=Layout(height='25px', width='50%'),…"
      ]
     },
     "metadata": {},
     "output_type": "display_data"
    },
    {
     "name": "stdout",
     "output_type": "stream",
     "text": [
      "+---------+-----+\n",
      "|customers|  zip|\n",
      "+---------+-----+\n",
      "|        1|75023|\n",
      "|        2|90093|\n",
      "|        3|75091|\n",
      "+---------+-----+"
     ]
    }
   ],
   "source": [
    "dyf_selectFromCollection = SelectFromCollection.apply(dyf_relationize, 'root')\n",
    "\n",
    "dyf_selectFromCollection.toDF().show()\n"
   ]
  },
  {
   "cell_type": "code",
   "execution_count": 24,
   "id": "c312354f-88f9-4d16-99f3-c133e8d74e20",
   "metadata": {},
   "outputs": [
    {
     "data": {
      "application/vnd.jupyter.widget-view+json": {
       "model_id": "",
       "version_major": 2,
       "version_minor": 0
      },
      "text/plain": [
       "FloatProgress(value=0.0, bar_style='info', description='Progress:', layout=Layout(height='25px', width='50%'),…"
      ]
     },
     "metadata": {},
     "output_type": "display_data"
    },
    {
     "name": "stdout",
     "output_type": "stream",
     "text": [
      "+---+-----+---------------------+----------------+\n",
      "| id|index|customers.val.address|customers.val.id|\n",
      "+---+-----+---------------------+----------------+\n",
      "|  1|    0|      66 P Street, NY|             343|\n",
      "|  2|    0|       708 Fed Ln, CA|             932|\n",
      "|  2|    1|    807 Deccan Dr, CA|             102|\n",
      "|  3|    0|  108 Park Street, TX|             623|\n",
      "|  3|    1|     763 Marsh Ln, TX|             231|\n",
      "+---+-----+---------------------+----------------+"
     ]
    }
   ],
   "source": [
    "dyf_selectFromCollection = SelectFromCollection.apply(dyf_relationize, 'root_customers')\n",
    "\n",
    "dyf_selectFromCollection.toDF().show()"
   ]
  },
  {
   "cell_type": "code",
   "execution_count": 25,
   "id": "6f8b251f-4e87-453a-b8ae-2ef061f2e73e",
   "metadata": {},
   "outputs": [
    {
     "data": {
      "application/vnd.jupyter.widget-view+json": {
       "model_id": "",
       "version_major": 2,
       "version_minor": 0
      },
      "text/plain": [
       "FloatProgress(value=0.0, bar_style='info', description='Progress:', layout=Layout(height='25px', width='50%'),…"
      ]
     },
     "metadata": {},
     "output_type": "display_data"
    },
    {
     "name": "stdout",
     "output_type": "stream",
     "text": [
      "+-------------------+-------+\n",
      "|            address|cust_id|\n",
      "+-------------------+-------+\n",
      "|    66 P Street, NY|    343|\n",
      "|     708 Fed Ln, CA|    932|\n",
      "|  807 Deccan Dr, CA|    102|\n",
      "|108 Park Street, TX|    623|\n",
      "|   763 Marsh Ln, TX|    231|\n",
      "+-------------------+-------+"
     ]
    }
   ],
   "source": [
    "dyf_renameField_1 = RenameField.apply(dyf_selectFromCollection, \"`customers.val.address`\", \"address\")\n",
    "\n",
    "dyf_renameField_2 = RenameField.apply(dyf_renameField_1, \"`customers.val.id`\", \"cust_id\")\n",
    "\n",
    "dyf_dropfields_rf = DropFields.apply(\n",
    "  frame = dyf_renameField_2,\n",
    "  paths = [\"index\", \"id\"]\n",
    ")\n",
    "\n",
    "dyf_dropfields_rf.toDF().show()"
   ]
  },
  {
   "cell_type": "code",
   "execution_count": 26,
   "id": "1090157b-d16a-4ccc-85d7-088ae72b1252",
   "metadata": {},
   "outputs": [
    {
     "data": {
      "application/vnd.jupyter.widget-view+json": {
       "model_id": "",
       "version_major": 2,
       "version_minor": 0
      },
      "text/plain": [
       "FloatProgress(value=0.0, bar_style='info', description='Progress:', layout=Layout(height='25px', width='50%'),…"
      ]
     },
     "metadata": {},
     "output_type": "display_data"
    },
    {
     "name": "stdout",
     "output_type": "stream",
     "text": [
      "root\n",
      "|-- address: string\n",
      "|-- cust_id: string"
     ]
    }
   ],
   "source": [
    "dyf_resolveChoice = dyf_dropfields_rf.resolveChoice(specs = [('cust_id','cast:String')])\n",
    "\n",
    "dyf_resolveChoice.printSchema()"
   ]
  },
  {
   "cell_type": "code",
   "execution_count": 27,
   "id": "47ef0635-8cbb-4d00-950f-04c888df2771",
   "metadata": {},
   "outputs": [
    {
     "data": {
      "application/vnd.jupyter.widget-view+json": {
       "model_id": "",
       "version_major": 2,
       "version_minor": 0
      },
      "text/plain": [
       "FloatProgress(value=0.0, bar_style='info', description='Progress:', layout=Layout(height='25px', width='50%'),…"
      ]
     },
     "metadata": {},
     "output_type": "display_data"
    },
    {
     "name": "stdout",
     "output_type": "stream",
     "text": [
      "root\n",
      "|-- warehouse_loc: string\n",
      "|-- data: string"
     ]
    }
   ],
   "source": [
    "warehouse_inventory_list = [\n",
    "              ['TX_WAREHOUSE', '{\\\n",
    "                          \"strawberry\":\"220\",\\\n",
    "                          \"pineapple\":\"560\",\\\n",
    "                          \"mango\":\"350\",\\\n",
    "                          \"pears\":null}'\n",
    "               ],\\\n",
    "              ['CA_WAREHOUSE', '{\\\n",
    "                         \"strawberry\":\"34\",\\\n",
    "                         \"pineapple\":\"123\",\\\n",
    "                         \"mango\":\"42\",\\\n",
    "                         \"pears\":null}\\\n",
    "              '],\n",
    "    \t\t   ['CO_WAREHOUSE', '{\\\n",
    "                         \"strawberry\":\"340\",\\\n",
    "                         \"pineapple\":\"180\",\\\n",
    "                         \"mango\":\"2\",\\\n",
    "                         \"pears\":null}'\n",
    "              ]\n",
    "            ]\n",
    "\n",
    "\n",
    "warehouse_schema = StructType([StructField(\"warehouse_loc\", StringType())\\\n",
    "                              ,StructField(\"data\", StringType())])\n",
    "\n",
    "df_warehouse = spark.createDataFrame(warehouse_inventory_list, schema = warehouse_schema)\n",
    "dyf_warehouse = DynamicFrame.fromDF(df_warehouse, glueContext, \"dyf_warehouse\")\n",
    "\n",
    "dyf_warehouse.printSchema()"
   ]
  },
  {
   "cell_type": "code",
   "execution_count": 30,
   "id": "5859e5fe-0c43-4061-9f93-f881a354b335",
   "metadata": {},
   "outputs": [
    {
     "data": {
      "application/vnd.jupyter.widget-view+json": {
       "model_id": "",
       "version_major": 2,
       "version_minor": 0
      },
      "text/plain": [
       "FloatProgress(value=0.0, bar_style='info', description='Progress:', layout=Layout(height='25px', width='50%'),…"
      ]
     },
     "metadata": {},
     "output_type": "display_data"
    },
    {
     "name": "stdout",
     "output_type": "stream",
     "text": [
      "root\n",
      "|-- warehouse_loc: string\n",
      "|-- data: struct\n",
      "|    |-- strawberry: string\n",
      "|    |-- pineapple: string\n",
      "|    |-- mango: string\n",
      "|    |-- pears: null"
     ]
    }
   ],
   "source": [
    "dyf_unbox = Unbox.apply(frame = dyf_warehouse, path = \"data\", format=\"json\")\n",
    "dyf_unbox.printSchema()\n"
   ]
  },
  {
   "cell_type": "code",
   "execution_count": 31,
   "id": "dc04b696-5d02-40dd-be75-32cb6678e73e",
   "metadata": {},
   "outputs": [
    {
     "data": {
      "application/vnd.jupyter.widget-view+json": {
       "model_id": "",
       "version_major": 2,
       "version_minor": 0
      },
      "text/plain": [
       "FloatProgress(value=0.0, bar_style='info', description='Progress:', layout=Layout(height='25px', width='50%'),…"
      ]
     },
     "metadata": {},
     "output_type": "display_data"
    },
    {
     "name": "stdout",
     "output_type": "stream",
     "text": [
      "+-------------+--------------------+\n",
      "|warehouse_loc|                data|\n",
      "+-------------+--------------------+\n",
      "| TX_WAREHOUSE|{220, 560, 350, n...|\n",
      "| CA_WAREHOUSE| {34, 123, 42, null}|\n",
      "| CO_WAREHOUSE| {340, 180, 2, null}|\n",
      "+-------------+--------------------+"
     ]
    }
   ],
   "source": [
    "dyf_unbox.toDF().show()"
   ]
  },
  {
   "cell_type": "code",
   "execution_count": 32,
   "id": "3797e73c-d11f-43f0-857f-8a57a82a2f18",
   "metadata": {},
   "outputs": [
    {
     "data": {
      "application/vnd.jupyter.widget-view+json": {
       "model_id": "",
       "version_major": 2,
       "version_minor": 0
      },
      "text/plain": [
       "FloatProgress(value=0.0, bar_style='info', description='Progress:', layout=Layout(height='25px', width='50%'),…"
      ]
     },
     "metadata": {},
     "output_type": "display_data"
    },
    {
     "name": "stdout",
     "output_type": "stream",
     "text": [
      "root\n",
      "|-- warehouse_loc: string\n",
      "|-- data.strawberry: string\n",
      "|-- data.pineapple: string\n",
      "|-- data.mango: string\n",
      "|-- data.pears: null"
     ]
    }
   ],
   "source": [
    "dyf_unnest = UnnestFrame.apply(frame = dyf_unbox)\n",
    "\n",
    "dyf_unnest.printSchema()"
   ]
  },
  {
   "cell_type": "code",
   "execution_count": 33,
   "id": "0f0ce685-6be6-4081-8975-85a4801f8e17",
   "metadata": {},
   "outputs": [
    {
     "data": {
      "application/vnd.jupyter.widget-view+json": {
       "model_id": "",
       "version_major": 2,
       "version_minor": 0
      },
      "text/plain": [
       "FloatProgress(value=0.0, bar_style='info', description='Progress:', layout=Layout(height='25px', width='50%'),…"
      ]
     },
     "metadata": {},
     "output_type": "display_data"
    },
    {
     "name": "stdout",
     "output_type": "stream",
     "text": [
      "null_fields ['`data.pears`']\n",
      "+-------------+---------------+--------------+----------+\n",
      "|warehouse_loc|data.strawberry|data.pineapple|data.mango|\n",
      "+-------------+---------------+--------------+----------+\n",
      "| TX_WAREHOUSE|            220|           560|       350|\n",
      "| CA_WAREHOUSE|             34|           123|        42|\n",
      "| CO_WAREHOUSE|            340|           180|         2|\n",
      "+-------------+---------------+--------------+----------+"
     ]
    }
   ],
   "source": [
    "dyf_dropNullfields = DropNullFields.apply(frame = dyf_unnest)\n",
    "\n",
    "dyf_dropNullfields.toDF().show()"
   ]
  },
  {
   "cell_type": "code",
   "execution_count": 37,
   "id": "4641b17f-d57a-430d-8162-fefd03e7262e",
   "metadata": {},
   "outputs": [
    {
     "data": {
      "application/vnd.jupyter.widget-view+json": {
       "model_id": "",
       "version_major": 2,
       "version_minor": 0
      },
      "text/plain": [
       "FloatProgress(value=0.0, bar_style='info', description='Progress:', layout=Layout(height='25px', width='50%'),…"
      ]
     },
     "metadata": {},
     "output_type": "display_data"
    },
    {
     "name": "stdout",
     "output_type": "stream",
     "text": [
      "+---------------+--------------+\n",
      "|data.strawberry|data.pineapple|\n",
      "+---------------+--------------+\n",
      "|            220|           560|\n",
      "|             34|           123|\n",
      "|            340|           180|\n",
      "+---------------+--------------+"
     ]
    }
   ],
   "source": [
    "dyf_splitFields = SplitFields.apply(frame = dyf_dropNullfields, paths = [\"`data.strawberry`\", \"`data.pineapple`\"], name1 = \"a\", name2 = \"b\")\n",
    "dyf_retrieve_a = SelectFromCollection.apply(dyf_splitFields, \"a\")\n",
    "dyf_retrieve_a.toDF().show()"
   ]
  },
  {
   "cell_type": "code",
   "execution_count": 38,
   "id": "2a778583-12ba-472e-8d0e-10bb041d7586",
   "metadata": {},
   "outputs": [
    {
     "data": {
      "application/vnd.jupyter.widget-view+json": {
       "model_id": "",
       "version_major": 2,
       "version_minor": 0
      },
      "text/plain": [
       "FloatProgress(value=0.0, bar_style='info', description='Progress:', layout=Layout(height='25px', width='50%'),…"
      ]
     },
     "metadata": {},
     "output_type": "display_data"
    }
   ],
   "source": [
    "dyf_splitRows = SplitRows.apply(frame = dyf_dropNullfields, comparison_dict = {\"`data.pineapple`\": {\">\": \"100\", \"<\": \"200\"}}, name1 = 'pa_200_less', name2 = 'pa_200_more')"
   ]
  },
  {
   "cell_type": "code",
   "execution_count": 39,
   "id": "0b9d2038-3cd0-4a24-8075-18953030f23d",
   "metadata": {},
   "outputs": [
    {
     "data": {
      "application/vnd.jupyter.widget-view+json": {
       "model_id": "",
       "version_major": 2,
       "version_minor": 0
      },
      "text/plain": [
       "FloatProgress(value=0.0, bar_style='info', description='Progress:', layout=Layout(height='25px', width='50%'),…"
      ]
     },
     "metadata": {},
     "output_type": "display_data"
    },
    {
     "name": "stdout",
     "output_type": "stream",
     "text": [
      "+-------------+---------------+--------------+----------+\n",
      "|warehouse_loc|data.strawberry|data.pineapple|data.mango|\n",
      "+-------------+---------------+--------------+----------+\n",
      "| CA_WAREHOUSE|             34|           123|        42|\n",
      "| CO_WAREHOUSE|            340|           180|         2|\n",
      "+-------------+---------------+--------------+----------+"
     ]
    }
   ],
   "source": [
    "dyf_pa_200_less = SelectFromCollection.apply(dyf_splitRows, 'pa_200_less')\n",
    "dyf_pa_200_less.toDF().show()"
   ]
  },
  {
   "cell_type": "code",
   "execution_count": 40,
   "id": "6e32ef2d-0d00-4d7f-a7fa-38d2bde25a96",
   "metadata": {},
   "outputs": [
    {
     "data": {
      "application/vnd.jupyter.widget-view+json": {
       "model_id": "",
       "version_major": 2,
       "version_minor": 0
      },
      "text/plain": [
       "FloatProgress(value=0.0, bar_style='info', description='Progress:', layout=Layout(height='25px', width='50%'),…"
      ]
     },
     "metadata": {},
     "output_type": "display_data"
    },
    {
     "name": "stdout",
     "output_type": "stream",
     "text": [
      "+-------------+---------------+--------------+----------+\n",
      "|warehouse_loc|data.strawberry|data.pineapple|data.mango|\n",
      "+-------------+---------------+--------------+----------+\n",
      "| TX_WAREHOUSE|            220|           560|       350|\n",
      "+-------------+---------------+--------------+----------+"
     ]
    }
   ],
   "source": [
    "dyf_pa_200_more = SelectFromCollection.apply(dyf_splitRows, 'pa_200_more')\n",
    "dyf_pa_200_more.toDF().show()"
   ]
  },
  {
   "cell_type": "code",
   "execution_count": null,
   "id": "fc5d7c04-5a59-44c3-bedb-8d79e1a8fe53",
   "metadata": {},
   "outputs": [],
   "source": []
  },
  {
   "cell_type": "code",
   "execution_count": null,
   "id": "2d055451-9437-4ae7-8fc4-f677a7d05512",
   "metadata": {},
   "outputs": [],
   "source": []
  },
  {
   "cell_type": "code",
   "execution_count": null,
   "id": "3da45d5f-5d4f-4297-8a70-31ed951035fc",
   "metadata": {},
   "outputs": [],
   "source": []
  },
  {
   "cell_type": "code",
   "execution_count": null,
   "id": "bebe610b-f472-446a-a0ba-78842d5555a6",
   "metadata": {},
   "outputs": [],
   "source": []
  }
 ],
 "metadata": {
  "kernelspec": {
   "display_name": "Glue Spark - Local (PySpark)",
   "language": "python",
   "name": "pysparkkernel"
  },
  "language_info": {
   "codemirror_mode": {
    "name": "python",
    "version": 3
   },
   "file_extension": ".py",
   "mimetype": "text/x-python",
   "name": "pyspark",
   "pygments_lexer": "python3"
  }
 },
 "nbformat": 4,
 "nbformat_minor": 5
}
