{
 "cells": [
  {
   "cell_type": "code",
   "execution_count": 6,
   "id": "3c98badb-7fa7-4791-ba3c-5b548c9b957e",
   "metadata": {},
   "outputs": [
    {
     "data": {
      "application/vnd.jupyter.widget-view+json": {
       "model_id": "",
       "version_major": 2,
       "version_minor": 0
      },
      "text/plain": [
       "FloatProgress(value=0.0, bar_style='info', description='Progress:', layout=Layout(height='25px', width='50%'),…"
      ]
     },
     "metadata": {},
     "output_type": "display_data"
    }
   ],
   "source": [
    "import sys\n",
    "from pyspark.context import SparkContext\n",
    "from awsglue.context import GlueContext\n",
    "from awsglue.transforms import *\n",
    "from awsglue.dynamicframe import DynamicFrame\n",
    "from pyspark.sql.types import *\n",
    "from pyspark.sql import Row\n",
    "glueContext = GlueContext(SparkContext.getOrCreate())\n"
   ]
  },
  {
   "cell_type": "code",
   "execution_count": 7,
   "id": "59dc577b-8d5a-4051-93ad-1360bb96d44c",
   "metadata": {},
   "outputs": [
    {
     "data": {
      "application/vnd.jupyter.widget-view+json": {
       "model_id": "",
       "version_major": 2,
       "version_minor": 0
      },
      "text/plain": [
       "FloatProgress(value=0.0, bar_style='info', description='Progress:', layout=Layout(height='25px', width='50%'),…"
      ]
     },
     "metadata": {},
     "output_type": "display_data"
    }
   ],
   "source": [
    "order_list = [\n",
    "               ['1005', '623', 'YES', '1418901234', '75091', u'{ \"zip\": 90093, \"customers\": [{ \"id\": 932, \"address\": \"708 Fed Ln, CA\"}, { \"id\": 102, \"address\": \"807 Deccan Dr, CA\" }]}'],\\\n",
    "               ['1006', '547', 'NO', '1418901256', '75034', u'{ \"zip\": 75023, \"customers\": [{ \"id\": 343, \"address\": \"66 P Street, NY\" }]}'],\\\n",
    "               ['1007', '823', 'YES', '1418901300', '75023', u'{ \"zip\": 82091, \"customers\": [{ \"id\": 201, \"address\": \"771 Peek Pkwy, GA\" }]}'],\\\n",
    "               ['1008', '912', 'NO', '1418901400', '82091',  u'{ \"zip\": 75091, \"customers\": [{ \"id\": 623, \"address\": \"108 Park Street, TX\"}, { \"id\": 231, \"address\": \"763 Marsh Ln, TX\" }]}'],\\\n",
    "               ['1009', '321', 'YES', '1418902000', '90093',  u'{ \"zip\": 75091, \"customers\": [{ \"id\": 624, \"address\": \"108 Park Street, TX\"}, { \"id\": 231, \"address\": \"763 Marsh Ln, TX\" }]}']\\\n",
    "             ]\n",
    "\n",
    "\n",
    "# Define schema for the order_list\n",
    "order_schema = StructType([  \n",
    "                      StructField(\"order_id\", StringType()),\n",
    "                      StructField(\"customer_id\", StringType()),\n",
    "                      StructField(\"essential_item\", StringType()),\n",
    "                      StructField(\"timestamp\", StringType()),\n",
    "                      StructField(\"zipcode\", StringType()),\n",
    "                      StructField(\"details\", StringType())\n",
    "                    ])"
   ]
  },
  {
   "cell_type": "code",
   "execution_count": 8,
   "id": "c8947227-b56d-4c29-8af3-fb30dd3574b5",
   "metadata": {},
   "outputs": [
    {
     "data": {
      "application/vnd.jupyter.widget-view+json": {
       "model_id": "",
       "version_major": 2,
       "version_minor": 0
      },
      "text/plain": [
       "FloatProgress(value=0.0, bar_style='info', description='Progress:', layout=Layout(height='25px', width='50%'),…"
      ]
     },
     "metadata": {},
     "output_type": "display_data"
    },
    {
     "name": "stdout",
     "output_type": "stream",
     "text": [
      "+--------+-----------+--------------+----------+-------+--------------------+\n",
      "|order_id|customer_id|essential_item| timestamp|zipcode|             details|\n",
      "+--------+-----------+--------------+----------+-------+--------------------+\n",
      "|    1005|        623|           YES|1418901234|  75091|{ \"zip\": 90093, \"...|\n",
      "|    1006|        547|            NO|1418901256|  75034|{ \"zip\": 75023, \"...|\n",
      "|    1007|        823|           YES|1418901300|  75023|{ \"zip\": 82091, \"...|\n",
      "|    1008|        912|            NO|1418901400|  82091|{ \"zip\": 75091, \"...|\n",
      "|    1009|        321|           YES|1418902000|  90093|{ \"zip\": 75091, \"...|\n",
      "+--------+-----------+--------------+----------+-------+--------------------+"
     ]
    }
   ],
   "source": [
    "df_orders = spark.createDataFrame(order_list, schema = order_schema)\n",
    "df_orders.show()"
   ]
  },
  {
   "cell_type": "code",
   "execution_count": 11,
   "id": "aae14605-a964-4bd8-beba-758b7c8ee0ce",
   "metadata": {},
   "outputs": [
    {
     "data": {
      "application/vnd.jupyter.widget-view+json": {
       "model_id": "",
       "version_major": 2,
       "version_minor": 0
      },
      "text/plain": [
       "FloatProgress(value=0.0, bar_style='info', description='Progress:', layout=Layout(height='25px', width='50%'),…"
      ]
     },
     "metadata": {},
     "output_type": "display_data"
    },
    {
     "name": "stdout",
     "output_type": "stream",
     "text": [
      "root\n",
      "|-- order_id: string\n",
      "|-- customer_id: string\n",
      "|-- essential_item: string\n",
      "|-- timestamp: string\n",
      "|-- zipcode: string\n",
      "|-- details: string"
     ]
    }
   ],
   "source": [
    "dyf_orders = DynamicFrame.fromDF(df_orders, glueContext, \"dyf\") \n",
    "dyf_orders.printSchema()"
   ]
  },
  {
   "cell_type": "code",
   "execution_count": 12,
   "id": "bb6753a1-425b-4a1c-b607-3d129cd30dc5",
   "metadata": {},
   "outputs": [
    {
     "data": {
      "application/vnd.jupyter.widget-view+json": {
       "model_id": "",
       "version_major": 2,
       "version_minor": 0
      },
      "text/plain": [
       "FloatProgress(value=0.0, bar_style='info', description='Progress:', layout=Layout(height='25px', width='50%'),…"
      ]
     },
     "metadata": {},
     "output_type": "display_data"
    },
    {
     "name": "stdout",
     "output_type": "stream",
     "text": [
      "root\n",
      "|-- order_id: string\n",
      "|-- customer_id: string\n",
      "|-- essential_item: string\n",
      "|-- timestamp: string\n",
      "|-- zipcode: string\n",
      "|-- details: struct\n",
      "|    |-- zip: int\n",
      "|    |-- customers: array\n",
      "|    |    |-- element: struct\n",
      "|    |    |    |-- id: int\n",
      "|    |    |    |-- address: string"
     ]
    }
   ],
   "source": [
    "unbox_orders = Unbox.apply(dyf_orders, path=\"details\", format=\"json\", transformation_ctx=\"unbox_orders\")\n",
    "unbox_orders.printSchema()"
   ]
  },
  {
   "cell_type": "code",
   "execution_count": 20,
   "id": "39bfd701-c8eb-4832-ac5a-89aac6861a27",
   "metadata": {},
   "outputs": [
    {
     "data": {
      "application/vnd.jupyter.widget-view+json": {
       "model_id": "",
       "version_major": 2,
       "version_minor": 0
      },
      "text/plain": [
       "FloatProgress(value=0.0, bar_style='info', description='Progress:', layout=Layout(height='25px', width='50%'),…"
      ]
     },
     "metadata": {},
     "output_type": "display_data"
    },
    {
     "name": "stdout",
     "output_type": "stream",
     "text": [
      "root\n",
      "|-- zipcode: string\n",
      "|-- address: string\n",
      "|-- essential_item: string\n",
      "|-- customer_id: string\n",
      "|-- details: struct\n",
      "|    |-- customers: array\n",
      "|    |    |-- element: struct\n",
      "|    |    |    |-- address: string\n",
      "|    |    |    |-- id: int\n",
      "|    |-- zip: int\n",
      "|-- timestamp: string\n",
      "|-- order_id: string\n",
      "\n",
      "+-------+-------------------+--------------+-----------+--------------------+----------+--------+\n",
      "|zipcode|            address|essential_item|customer_id|             details| timestamp|order_id|\n",
      "+-------+-------------------+--------------+-----------+--------------------+----------+--------+\n",
      "|  75091|     708 Fed Ln, CA|           YES|        623|{[{708 Fed Ln, CA...|1418901234|    1005|\n",
      "|  75034|    66 P Street, NY|            NO|        547|{[{66 P Street, N...|1418901256|    1006|\n",
      "|  75023|  771 Peek Pkwy, GA|           YES|        823|{[{771 Peek Pkwy,...|1418901300|    1007|\n",
      "|  82091|108 Park Street, TX|            NO|        912|{[{108 Park Stree...|1418901400|    1008|\n",
      "|  90093|108 Park Street, TX|           YES|        321|{[{108 Park Stree...|1418902000|    1009|\n",
      "+-------+-------------------+--------------+-----------+--------------------+----------+--------+"
     ]
    }
   ],
   "source": [
    "def addDetails(row):\n",
    "    row[\"address\"] = row[\"details\"][\"customers\"][0][\"address\"]\n",
    "    return row\n",
    "\n",
    "map_orders = Map.apply(frame=unbox_orders, f=addDetails, transformation_ctx=\"map_orders\")\n",
    "map_orders.printSchema()\n",
    "map_orders.toDF().show()"
   ]
  },
  {
   "cell_type": "code",
   "execution_count": null,
   "id": "5a8ed7b2-018e-4baa-98a1-349577b7d2b6",
   "metadata": {},
   "outputs": [],
   "source": []
  },
  {
   "cell_type": "code",
   "execution_count": null,
   "id": "c1b32174-4c7a-4cbd-8d4b-ea949e1940d9",
   "metadata": {},
   "outputs": [],
   "source": []
  },
  {
   "cell_type": "code",
   "execution_count": null,
   "id": "528a96d0-5bb1-4367-98b5-8c1f286e5073",
   "metadata": {},
   "outputs": [],
   "source": []
  },
  {
   "cell_type": "code",
   "execution_count": null,
   "id": "9cdeff4a-091c-4fa0-8cf9-d59f82ee453c",
   "metadata": {},
   "outputs": [],
   "source": []
  },
  {
   "cell_type": "code",
   "execution_count": null,
   "id": "e3a3bebf-6db3-4567-8b42-3d044bc945bd",
   "metadata": {},
   "outputs": [],
   "source": []
  },
  {
   "cell_type": "code",
   "execution_count": null,
   "id": "5b243cc6-9e12-4337-ac95-0507f78826f4",
   "metadata": {},
   "outputs": [],
   "source": []
  }
 ],
 "metadata": {
  "kernelspec": {
   "display_name": "Glue Spark - Local (PySpark)",
   "language": "python",
   "name": "pysparkkernel"
  },
  "language_info": {
   "codemirror_mode": {
    "name": "python",
    "version": 3
   },
   "file_extension": ".py",
   "mimetype": "text/x-python",
   "name": "pyspark",
   "pygments_lexer": "python3"
  }
 },
 "nbformat": 4,
 "nbformat_minor": 5
}
